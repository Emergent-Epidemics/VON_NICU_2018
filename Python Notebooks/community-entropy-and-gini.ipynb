{
 "cells": [
  {
   "cell_type": "code",
   "execution_count": 2,
   "metadata": {
    "collapsed": true
   },
   "outputs": [],
   "source": [
    "#Munik Shrestha\n",
    "#May 8th 2018\n",
    "\n",
    "import numpy as np\n",
    "import matplotlib.pyplot as plt \n",
    "import pandas as pd\n",
    "\n",
    "import networkx as nx \n",
    "import igraph as ig"
   ]
  },
  {
   "cell_type": "code",
   "execution_count": 3,
   "metadata": {
    "collapsed": true
   },
   "outputs": [],
   "source": [
    "def xlogx(x):\n",
    "    if x==0:\n",
    "        return 0\n",
    "    else:\n",
    "        return(x*np.log(x))\n",
    "    \n",
    "def vonEntropy(listL):\n",
    "    sumZ=sum(listL) #normalize\n",
    "    if sumZ==0:\n",
    "        return 0\n",
    "    listL=[x/sumZ for x in listL] # normalized\n",
    "    toReturn=0\n",
    "    for sValue in listL: \n",
    "        toReturn-= xlogx(sValue)\n",
    "    return(round(toReturn/np.log((len(listL))),4))\n",
    "\n",
    "def gini(array): #imported from: https://github.com/oliviaguest/gini\n",
    "    \"\"\"Calculate the Gini coefficient of a numpy array.\"\"\"\n",
    "    # based on bottom eq: http://www.statsdirect.com/help/content/image/stat0206_wmf.gif\n",
    "    # from: http://www.statsdirect.com/help/default.htm#nonparametric_methods/gini.htm\n",
    "    array = array.flatten() #all values are treated equally, arrays must be 1d\n",
    "    if np.amin(array) < 0:\n",
    "        array -= np.amin(array) #values cannot be negative\n",
    "    array += 0.0000001 #values cannot be 0\n",
    "    array = np.sort(array) #values must be sorted\n",
    "    index = np.arange(1,array.shape[0]+1) #index per array element\n",
    "    n = array.shape[0]#number of array elements\n",
    "    toReturn=((np.sum((2 * index - n  - 1) * array)) / (n * np.sum(array))) #Gini coefficient\n",
    "    return(round(toReturn,3))"
   ]
  },
  {
   "cell_type": "code",
   "execution_count": 4,
   "metadata": {
    "collapsed": true
   },
   "outputs": [],
   "source": [
    "homeFolder=''\n",
    "# directed and weighted in networkx\n",
    "g=nx.read_gml(homeFolder+'/nicu-analysis/data/graph-nicu.gml',destringizer=int) \n",
    "pageRank=nx.pagerank(g,weight='weight')   \n",
    "betwRank=nx.betweenness_centrality(g,weight='weight')\n",
    "# igraph\n",
    "# \n",
    "g_Igraph=ig.Graph.Read_GML(homeFolder+'/nicu-analysis/data/nicuUGW.gml') \n",
    "#for community partition in i-graph\n",
    "comm=g_Igraph.community_multilevel(weights=g_Igraph.es[\"weight\"],return_levels=True)\n",
    "nLevel=len(comm)"
   ]
  },
  {
   "cell_type": "code",
   "execution_count": 5,
   "metadata": {
    "collapsed": true
   },
   "outputs": [],
   "source": [
    "community={} # community[i] gives the community partition in dictionary\n",
    "for level in range(len(comm)):\n",
    "    community[level]={int(g_Igraph.vs[i]['label']): comm[level].membership[i] for i in range(g_Igraph.vcount())}\n",
    "    label='level'+str(level)\n",
    "    #community=pd.Series(commAtLevel,name=label)\n",
    "\n",
    "community=pd.DataFrame(community)\n",
    "community.index.name = 'nodeID'\n",
    "#community.head()"
   ]
  },
  {
   "cell_type": "code",
   "execution_count": 6,
   "metadata": {
    "collapsed": true
   },
   "outputs": [],
   "source": [
    "firstLevel=0\n",
    "lastLevel=nLevel-1\n",
    "groupBy=lastLevel\n",
    "\n",
    "partionHere=community.groupby(groupBy) # grouping data by community\n",
    "sizeOfGroup={}\n",
    "\n",
    "#from normalized singular values\n",
    "giniBygroup={}\n",
    "vonEntropyByGroup={}\n",
    "\n",
    "#from page rank\n",
    "#meanPageRank={}\n",
    "#varPageRank={}\n",
    "vonPageRank={}\n",
    "\n",
    "#from betweeness \n",
    "#meanBweenNess={}\n",
    "#varBweenNess={}\n",
    "vonBweenNess={}\n",
    "\n",
    "#theil index\n",
    "#thielPageRank={}\n",
    "#thielBweenNess={}\n",
    "\n",
    "#flow hierarchy networkx\n",
    "flowHierarchy={}\n",
    "\n",
    "for group in partionHere.groups:\n",
    "    nodesHere=list(partionHere.get_group(group).index)\n",
    "    subG=nx.subgraph(g,nodesHere)\n",
    "        \n",
    "    N=subG.number_of_nodes()\n",
    "    sizeOfGroup[group]=N\n",
    "    \n",
    "    if N <1:\n",
    "        continue \n",
    "    \n",
    "    A=nx.to_numpy_matrix(subG)\n",
    "    u,s,v = np.linalg.svd(A)\n",
    "    \n",
    "    pRankListHere=[pageRank[i] for i in nodesHere]\n",
    "    bWeenListHere=[betwRank[i] for i in nodesHere]\n",
    "    \n",
    "    meanPageRank[group]=round(np.mean(pRankListHere),3) \n",
    "    varPageRank[group]=round(np.var(pRankListHere),3) \n",
    "    vonPageRank[group]=vonEntropy(pRankListHere)\n",
    "    \n",
    "    meanBweenNess[group]=round(np.mean(bWeenListHere),3)  \n",
    "    varBweenNess[group]=round(np.var(bWeenListHere),3)  \n",
    "    vonBweenNess[group]=vonEntropy(bWeenListHere)\n",
    "\n",
    "    #thielPageRank[group]=1-vonPageRank[group]\n",
    "    #thielBweenNess[group]=1-vonBweenNess[group]\n",
    "        \n",
    "    if subG.number_of_edges()>0: \n",
    "        giniBygroup[group]=gini(s)\n",
    "        vonEntropyByGroup[group]=vonEntropy(s)\n",
    "        flowHierarchy[group]=nx.flow_hierarchy(subG)\n",
    "        "
   ]
  }
 ],
 "metadata": {
  "kernelspec": {
   "display_name": "Python 3",
   "language": "python",
   "name": "python3"
  },
  "language_info": {
   "codemirror_mode": {
    "name": "ipython",
    "version": 2
   },
   "file_extension": ".py",
   "mimetype": "text/x-python",
   "name": "python",
   "nbconvert_exporter": "python",
   "pygments_lexer": "ipython2",
   "version": "2.7.10"
  }
 },
 "nbformat": 4,
 "nbformat_minor": 2
}
